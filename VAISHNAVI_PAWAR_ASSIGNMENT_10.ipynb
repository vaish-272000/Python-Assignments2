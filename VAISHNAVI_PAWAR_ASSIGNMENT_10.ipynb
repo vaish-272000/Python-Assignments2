{
  "nbformat": 4,
  "nbformat_minor": 0,
  "metadata": {
    "colab": {
      "provenance": [],
      "authorship_tag": "ABX9TyNbTzZWyjAnIwTX5p+d2MUa",
      "include_colab_link": true
    },
    "kernelspec": {
      "name": "python3",
      "display_name": "Python 3"
    },
    "language_info": {
      "name": "python"
    }
  },
  "cells": [
    {
      "cell_type": "markdown",
      "metadata": {
        "id": "view-in-github",
        "colab_type": "text"
      },
      "source": [
        "<a href=\"https://colab.research.google.com/github/vaish-272000/Python-Assignments2/blob/main/VAISHNAVI_PAWAR_ASSIGNMENT_10.ipynb\" target=\"_parent\"><img src=\"https://colab.research.google.com/assets/colab-badge.svg\" alt=\"Open In Colab\"/></a>"
      ]
    },
    {
      "cell_type": "markdown",
      "source": [
        "Write a Python function sumsquare(l) that takes a nonempty list of integers and returns a list [odd,even], where odd is the sum of squares all the odd numbers in l and even is the sum of squares of all the even numbers in l."
      ],
      "metadata": {
        "id": "sEz2Cu9GqTGj"
      }
    },
    {
      "cell_type": "code",
      "source": [
        "l=[8,7,6,9,13,23,42,77,23]\n",
        "\n",
        "def sumsquare(l):\n",
        "\n",
        "   odd=0\n",
        "\n",
        "   even=0\n",
        "\n",
        "   for i in l:\n",
        "\n",
        "       if i%2==0:\n",
        "\n",
        "           even = even + i**2\n",
        "\n",
        "       else:\n",
        "\n",
        "           odd = odd + i**2\n",
        "\n",
        "   l=[odd,even]\n",
        "\n",
        "   return(l)\n",
        "  \n",
        "print(sumsquare(l))"
      ],
      "metadata": {
        "colab": {
          "base_uri": "https://localhost:8080/"
        },
        "id": "1jTL6ETsqUCf",
        "outputId": "89496582-5069-4f28-e999-e1f2427a4779"
      },
      "execution_count": null,
      "outputs": [
        {
          "output_type": "stream",
          "name": "stdout",
          "text": [
            "[7286, 1864]\n"
          ]
        }
      ]
    }
  ]
}