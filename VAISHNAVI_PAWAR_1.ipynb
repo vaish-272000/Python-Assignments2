{
  "nbformat": 4,
  "nbformat_minor": 0,
  "metadata": {
    "colab": {
      "provenance": [],
      "authorship_tag": "ABX9TyPgmd2AVpTX+CaxoHFlNFDl",
      "include_colab_link": true
    },
    "kernelspec": {
      "name": "python3",
      "display_name": "Python 3"
    },
    "language_info": {
      "name": "python"
    }
  },
  "cells": [
    {
      "cell_type": "markdown",
      "metadata": {
        "id": "view-in-github",
        "colab_type": "text"
      },
      "source": [
        "<a href=\"https://colab.research.google.com/github/vaish-272000/Python-Assignments2/blob/main/VAISHNAVI_PAWAR_1.ipynb\" target=\"_parent\"><img src=\"https://colab.research.google.com/assets/colab-badge.svg\" alt=\"Open In Colab\"/></a>"
      ]
    },
    {
      "cell_type": "code",
      "execution_count": null,
      "metadata": {
        "colab": {
          "base_uri": "https://localhost:8080/"
        },
        "id": "zVDZJfKJR2Es",
        "outputId": "4da8c4d6-5e86-4446-d252-388c4d4b58ad"
      },
      "outputs": [
        {
          "output_type": "stream",
          "name": "stdout",
          "text": [
            "Enter the marks of students\n",
            "Enter marks of student 1\n",
            "56\n",
            "Enter marks of student 2\n",
            "89\n",
            "Enter marks of student 3\n",
            "30\n",
            "Enter marks of student 4\n",
            "65\n",
            "Enter marks of student 5\n",
            "70\n",
            "\n",
            "Result of Student: 1\n",
            "Second Class\n",
            "Result of Student: 2\n",
            "Distinction\n",
            "Result of Student: 3\n",
            "Fail\n",
            "Result of Student: 4\n",
            "First Class\n",
            "Result of Student: 5\n",
            "First Class\n"
          ]
        }
      ],
      "source": [
        "Marks = []        #Create an empty list \n",
        "print(\"Enter the marks of students\")\n",
        "\n",
        "#Loop for marks of students\n",
        "for i in range(1,6):\n",
        "  print(\"Enter marks of student\",i)\n",
        "  Marks.append(int(input()))\n",
        "\n",
        "print(\"\\r\")\n",
        "\n",
        "a = 1        #Initialize value\n",
        "\n",
        "#Loop for printing results\n",
        "for i in Marks:\n",
        "  print(\"Result of Student:\",a)\n",
        "  a +=1\n",
        "\n",
        "  #Nested if statement to print the results\n",
        "  if i >=75 and i <= 100:\n",
        "     print(\"Distinction\")                      #If number lies in 75 and 100 will print distinction\n",
        "   \n",
        "  elif i >= 60 and i < 75:                   \n",
        "     print(\"First Class\")                     #If number lies in 60 and 75 will print First class\n",
        "   \n",
        "  elif i < 60 and i >= 45:\n",
        "     print(\"Second Class\")                   #If number lies in 45 and 60 will print Second class\n",
        "\n",
        "  elif i < 45 and i >= 35:\n",
        "     print(\"Pass\")                          #If number lies in 35 and 45 will print Pass\n",
        "\n",
        "  else:\n",
        "     print(\"Fail\")                        #If number less than 35 will print fail\n",
        "\n",
        "\n"
      ]
    }
  ]
}