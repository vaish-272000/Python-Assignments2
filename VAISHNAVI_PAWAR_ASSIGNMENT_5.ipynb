{
  "nbformat": 4,
  "nbformat_minor": 0,
  "metadata": {
    "colab": {
      "provenance": [],
      "authorship_tag": "ABX9TyOB5ArOHQ/g0rlroc0Z2m7f",
      "include_colab_link": true
    },
    "kernelspec": {
      "name": "python3",
      "display_name": "Python 3"
    },
    "language_info": {
      "name": "python"
    }
  },
  "cells": [
    {
      "cell_type": "markdown",
      "metadata": {
        "id": "view-in-github",
        "colab_type": "text"
      },
      "source": [
        "<a href=\"https://colab.research.google.com/github/vaish-272000/Python-Assignments2/blob/main/VAISHNAVI_PAWAR_ASSIGNMENT_5.ipynb\" target=\"_parent\"><img src=\"https://colab.research.google.com/assets/colab-badge.svg\" alt=\"Open In Colab\"/></a>"
      ]
    },
    {
      "cell_type": "markdown",
      "source": [
        "To calculate salary of an employee given his basic pay (take as input from user.Calculate gross salary of employee. Let HRA be 10 % of basic pay and TA be 5% of basic pay. Let employee pay professional tax as 2% of total salary. Calculate net salary payable after deductions."
      ],
      "metadata": {
        "id": "nuqBV_p9hcVR"
      }
    },
    {
      "cell_type": "code",
      "source": [
        "#Take basic pay as input from user\n",
        "basic_pay = int(input(\"Enter your basic pay: \"))\n",
        "\n",
        "try:\n",
        "  if basic_pay < 0 :\n",
        "    print(\"Basic pay cannot be negative\")\n",
        "    exit()\n",
        "  else:\n",
        "    HRA = basic_pay * 0.1                  #HRA is 10% of basic salary\n",
        "    TA = basic_pay * 0.05                  #TA is 5% of basic salary\n",
        "    total_salary = basic_pay + HRA + TA    #Total salary\n",
        "    prof_tax = total_salary * 0.02         #Professional tax is 2% of base salary\n",
        "    payable_salary = total_salary - prof_tax\n",
        "    print(\"Net salary payable after deductions is: \",payable_salary)\n",
        "except ValueError:\n",
        "  print(\"Enter appropriate value\")"
      ],
      "metadata": {
        "colab": {
          "base_uri": "https://localhost:8080/"
        },
        "id": "jQSCkz3Hhdtk",
        "outputId": "b98d96ae-a4b2-4ccf-cb61-9b235edee5da"
      },
      "execution_count": null,
      "outputs": [
        {
          "output_type": "stream",
          "name": "stdout",
          "text": [
            "Enter your basic pay: -46545\n",
            "Basic pay cannot be negative\n"
          ]
        }
      ]
    }
  ]
}