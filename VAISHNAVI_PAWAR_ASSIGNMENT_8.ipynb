{
  "nbformat": 4,
  "nbformat_minor": 0,
  "metadata": {
    "colab": {
      "provenance": [],
      "authorship_tag": "ABX9TyPabzITL960Bmh30dF/pgoY",
      "include_colab_link": true
    },
    "kernelspec": {
      "name": "python3",
      "display_name": "Python 3"
    },
    "language_info": {
      "name": "python"
    }
  },
  "cells": [
    {
      "cell_type": "markdown",
      "metadata": {
        "id": "view-in-github",
        "colab_type": "text"
      },
      "source": [
        "<a href=\"https://colab.research.google.com/github/vaish-272000/Python-Assignments2/blob/main/VAISHNAVI_PAWAR_ASSIGNMENT_8.ipynb\" target=\"_parent\"><img src=\"https://colab.research.google.com/assets/colab-badge.svg\" alt=\"Open In Colab\"/></a>"
      ]
    },
    {
      "cell_type": "markdown",
      "source": [
        "To accept two numbers from user and compute smallest divisor and Greatest Common Divisor of these two numbers"
      ],
      "metadata": {
        "id": "K3Q0BA1PlHre"
      }
    },
    {
      "cell_type": "code",
      "source": [
        "#Take input from user\n",
        "n1 = int(input(\"Enter first number: \"))\n",
        "n2 = int(input(\"Enter second number: \"))\n",
        "\n",
        "#Smallest divisor function\n",
        "def small_divisor(a, b):\n",
        "    if a > b:\n",
        "        greater = a\n",
        "    else:\n",
        "        greater = b\n",
        "    while(True):\n",
        "        if((greater % a == 0) and (greater % b == 0)):\n",
        "            small_divisor = greater\n",
        "            break\n",
        "        greater += 1\n",
        "    return small_divisor\n",
        "\n",
        "#Driver code\n",
        "print(\"Smallest divisor is:\", small_divisor(n1,n2))"
      ],
      "metadata": {
        "colab": {
          "base_uri": "https://localhost:8080/"
        },
        "id": "LrZRqCy2ld76",
        "outputId": "62938287-8be9-4a06-812a-5ddb34b43fe3"
      },
      "execution_count": null,
      "outputs": [
        {
          "output_type": "stream",
          "name": "stdout",
          "text": [
            "Enter first number: 4\n",
            "Enter second number: 6\n",
            "Smallest divisor is: 12\n"
          ]
        }
      ]
    },
    {
      "cell_type": "code",
      "source": [
        "#Program to compute GCD of two numbers\n",
        "n1 = int(input(\"Enter first number: \"))\n",
        "n2 = int(input(\"Enter second number: \"))\n",
        "\n",
        "#Function greatest common divisor\n",
        "def gcd(x,y):\n",
        "  if(y==0):\n",
        "    return x\n",
        "  else:\n",
        "    return gcd(y,x%y)\n",
        "  \n",
        "#Driver code\n",
        "num = gcd(n1,n2)\n",
        "print(\"GCD of two numbers is: \",num)"
      ],
      "metadata": {
        "colab": {
          "base_uri": "https://localhost:8080/"
        },
        "id": "xRUCG2demO56",
        "outputId": "27fedbb3-018b-4eb2-cda8-00e9a69c13c8"
      },
      "execution_count": null,
      "outputs": [
        {
          "output_type": "stream",
          "name": "stdout",
          "text": [
            "Enter first number: 54\n",
            "Enter second number: 24\n",
            "GCD of two numbers is:  6\n"
          ]
        }
      ]
    }
  ]
}