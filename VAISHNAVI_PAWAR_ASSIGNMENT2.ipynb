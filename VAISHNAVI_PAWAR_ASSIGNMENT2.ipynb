{
  "nbformat": 4,
  "nbformat_minor": 0,
  "metadata": {
    "colab": {
      "provenance": [],
      "authorship_tag": "ABX9TyP4a2HnYb1HmRYaKHuLCz8T",
      "include_colab_link": true
    },
    "kernelspec": {
      "name": "python3",
      "display_name": "Python 3"
    },
    "language_info": {
      "name": "python"
    }
  },
  "cells": [
    {
      "cell_type": "markdown",
      "metadata": {
        "id": "view-in-github",
        "colab_type": "text"
      },
      "source": [
        "<a href=\"https://colab.research.google.com/github/vaish-272000/Python-Assignments2/blob/main/VAISHNAVI_PAWAR_ASSIGNMENT2.ipynb\" target=\"_parent\"><img src=\"https://colab.research.google.com/assets/colab-badge.svg\" alt=\"Open In Colab\"/></a>"
      ]
    },
    {
      "cell_type": "markdown",
      "source": [
        "To accept the number and compute a)Square root of a number,b)Square of a number,c)Cube of a number,d)check for prime,d)Factorial of a number,e)prime factors\n"
      ],
      "metadata": {
        "id": "70yUlU6vobEW"
      }
    },
    {
      "cell_type": "markdown",
      "source": [
        "a)Square root of a number "
      ],
      "metadata": {
        "id": "WHtYdfUjp4uN"
      }
    },
    {
      "cell_type": "code",
      "source": [
        "#To take square root of number we import math library\n",
        "import math\n",
        "\n",
        "#Take number from user\n",
        "num = int(input(\"Enter the number:\"))\n",
        "\n",
        "sq_root = math.sqrt(num)\n",
        "\n",
        "#Print square root of number \n",
        "print(\"The square root of \",num,\"is\",sq_root)"
      ],
      "metadata": {
        "colab": {
          "base_uri": "https://localhost:8080/"
        },
        "id": "0EzZEa6CqCnM",
        "outputId": "307099ae-2990-45db-bff1-b92463c2f836"
      },
      "execution_count": null,
      "outputs": [
        {
          "output_type": "stream",
          "name": "stdout",
          "text": [
            "Enter the number:25\n",
            "The square root of  25 is 5.0\n"
          ]
        }
      ]
    },
    {
      "cell_type": "markdown",
      "source": [
        "b)Square of a number"
      ],
      "metadata": {
        "id": "cESaIjB3qkd_"
      }
    },
    {
      "cell_type": "code",
      "source": [
        "#Take number from user\n",
        "num = int(input(\"Enter the number:\"))\n",
        "\n",
        "#To print square of given number \n",
        "sq = num ** 2\n",
        "print(\"The square of\",num,\"is\",sq)"
      ],
      "metadata": {
        "colab": {
          "base_uri": "https://localhost:8080/"
        },
        "id": "lJZ_N8a7rDQ2",
        "outputId": "1a150cd0-d569-4a68-cecc-c6f615307427"
      },
      "execution_count": null,
      "outputs": [
        {
          "output_type": "stream",
          "name": "stdout",
          "text": [
            "Enter the number:41\n",
            "The square of 41 is 1681\n"
          ]
        }
      ]
    },
    {
      "cell_type": "markdown",
      "source": [
        "c)Cube of a number "
      ],
      "metadata": {
        "id": "V6Vdry14rNlF"
      }
    },
    {
      "cell_type": "code",
      "source": [
        "#Take number from user\n",
        "num = int(input(\"Enter the number:\"))\n",
        "\n",
        "#To print cube of given number \n",
        "cube = num ** 3\n",
        "print(\"The cube of\",num,\"is\",cube)"
      ],
      "metadata": {
        "colab": {
          "base_uri": "https://localhost:8080/"
        },
        "id": "mQRW3l6zrYKs",
        "outputId": "a5b44a6c-b436-4497-d445-2fc5791551d8"
      },
      "execution_count": null,
      "outputs": [
        {
          "output_type": "stream",
          "name": "stdout",
          "text": [
            "Enter the number:19\n",
            "The cube of 19 is 6859\n"
          ]
        }
      ]
    },
    {
      "cell_type": "markdown",
      "source": [
        "d)Check for prime number"
      ],
      "metadata": {
        "id": "MgGgVQlqrlp3"
      }
    },
    {
      "cell_type": "code",
      "source": [
        "#Take input from user\n",
        "num = int(input(\"Enter a number: \"))\n",
        "\n",
        "# prime numbers are greater than 1\n",
        "if num > 1:\n",
        "   # check for factors\n",
        "   for i in range(2,num):\n",
        "       if (num % i) == 0:\n",
        "           print(num,\"is not a prime number\")\n",
        "           print(i,\"times\",num//i,\"is\",num)\n",
        "           break\n",
        "   else:\n",
        "       print(num,\"is a prime number\")\n",
        "       \n",
        "# if input number is less than\n",
        "# or equal to 1, it is not prime\n",
        "else:\n",
        "   print(num,\"is not a prime number\")"
      ],
      "metadata": {
        "colab": {
          "base_uri": "https://localhost:8080/"
        },
        "id": "52K_Oa2BrxdA",
        "outputId": "e9565f68-100d-4b42-d979-a684624340de"
      },
      "execution_count": null,
      "outputs": [
        {
          "output_type": "stream",
          "name": "stdout",
          "text": [
            "Enter a number: 11\n",
            "11 is a prime number\n"
          ]
        }
      ]
    },
    {
      "cell_type": "markdown",
      "source": [
        "d)Factorial of a number"
      ],
      "metadata": {
        "id": "R7PBiVPUtHMp"
      }
    },
    {
      "cell_type": "code",
      "source": [
        "#Take number from user\n",
        "n = int(input(\"Enter a number: \"))\n",
        "\n",
        "fact = 1\n",
        "#Check if number is negative positive or zero\n",
        "if n < 0:\n",
        "  print(\"Factorial do not exist\")\n",
        "\n",
        "elif n == 0:\n",
        "  print(\"Factorial of 0 is 1\")      #Factorial of  is always 1 \n",
        "\n",
        "else:\n",
        "  for i in range(1,n + 1):\n",
        "    fact = fact * i\n",
        "  print(\"The factorial of\",n,\"is\",fact)"
      ],
      "metadata": {
        "colab": {
          "base_uri": "https://localhost:8080/"
        },
        "id": "_-Fp04JOtOVf",
        "outputId": "1aa8a511-283e-48d5-dd06-5ca428cfb887"
      },
      "execution_count": null,
      "outputs": [
        {
          "output_type": "stream",
          "name": "stdout",
          "text": [
            "Enter a number: 5\n",
            "The factorial of 5 is 120\n"
          ]
        }
      ]
    },
    {
      "cell_type": "markdown",
      "source": [
        "e)Prime factors"
      ],
      "metadata": {
        "id": "AKdsjVZgvLEA"
      }
    },
    {
      "cell_type": "code",
      "source": [
        "import math\n",
        "#Take input from user\n",
        "n = int(input(\"Enter a number: \"))\n",
        "\n",
        "#Define a function prime_factor\n",
        "def prime_factor(n):\n",
        "  while (n % 2) == 0:\n",
        "    print(2,)\n",
        "    n = n/2\n",
        "  for i in range(3,int(math.sqrt(n))+1,2):\n",
        "   while n % i == 0:\n",
        "     print(i,)\n",
        "     n = n/i  \n",
        "  if n > 2:\n",
        "    print(n) \n",
        "\n",
        "#Call function\n",
        "prime_factor(n)"
      ],
      "metadata": {
        "colab": {
          "base_uri": "https://localhost:8080/"
        },
        "id": "vr4KBdFsvSZN",
        "outputId": "c4cbe96b-e56d-4fb7-a950-a3789f8fe811"
      },
      "execution_count": null,
      "outputs": [
        {
          "output_type": "stream",
          "name": "stdout",
          "text": [
            "Enter a number: 200\n",
            "2\n",
            "2\n",
            "2\n",
            "5\n",
            "5\n"
          ]
        }
      ]
    }
  ]
}