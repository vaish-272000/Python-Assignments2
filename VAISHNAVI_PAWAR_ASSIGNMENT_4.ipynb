{
  "nbformat": 4,
  "nbformat_minor": 0,
  "metadata": {
    "colab": {
      "provenance": [],
      "authorship_tag": "ABX9TyNs2KQPH1Va1VgAxQhn6R7h",
      "include_colab_link": true
    },
    "kernelspec": {
      "name": "python3",
      "display_name": "Python 3"
    },
    "language_info": {
      "name": "python"
    }
  },
  "cells": [
    {
      "cell_type": "markdown",
      "metadata": {
        "id": "view-in-github",
        "colab_type": "text"
      },
      "source": [
        "<a href=\"https://colab.research.google.com/github/vaish-272000/Python-Assignments2/blob/main/VAISHNAVI_PAWAR_ASSIGNMENT_4.ipynb\" target=\"_parent\"><img src=\"https://colab.research.google.com/assets/colab-badge.svg\" alt=\"Open In Colab\"/></a>"
      ]
    },
    {
      "cell_type": "markdown",
      "source": [
        "To accept N numbers from user. Compute and display maximum in list, minimum in list, sum and average of numbers."
      ],
      "metadata": {
        "id": "I2Nw4b0Kcg3e"
      }
    },
    {
      "cell_type": "code",
      "source": [
        "try:\n",
        "  #Take input for n number of elements\n",
        "  n = int(input(\"Enter the number of elements: \"))\n",
        "  num_list = []\n",
        "  for i in range(n):\n",
        "    num = int(input(\"Enter number30: \"))\n",
        "    num_list.append(num)                         #Number get added in list\n",
        "  Maximum = max(num_list)                     #Will give maximum value in list\n",
        "  Minimum = min(num_list)                     #Will give minimum value in list\n",
        "  Sum = sum(num_list)                         #Will return sum\n",
        "  Avg = Sum/len(num_list)                     #Will return average\n",
        "  print(\"Maximum is: \",Maximum)\n",
        "  print(\"Minimum is: \",Minimum)\n",
        "  print(\"Count is: \",len(num_list))\n",
        "  print(\"Sum is: \",Sum)\n",
        "  print(\"Average is: \",Avg)\n",
        "    \n",
        "except ValueError:\n",
        "  print(\"Display all element as integer\")\n"
      ],
      "metadata": {
        "colab": {
          "base_uri": "https://localhost:8080/"
        },
        "id": "DtPzrZOuecP5",
        "outputId": "f29688c1-9a6a-46a6-bec4-cef28fcfa2f4"
      },
      "execution_count": null,
      "outputs": [
        {
          "output_type": "stream",
          "name": "stdout",
          "text": [
            "Enter the number of elements: 5\n",
            "Enter number30: 14\n",
            "Enter number30: 25\n",
            "Enter number30: 45\n",
            "Enter number30: 30\n",
            "Enter number30: 20\n",
            "Maximum is:  45\n",
            "Minimum is:  14\n",
            "Count is:  5\n",
            "Sum is:  134\n",
            "Average is:  26.8\n"
          ]
        }
      ]
    }
  ]
}