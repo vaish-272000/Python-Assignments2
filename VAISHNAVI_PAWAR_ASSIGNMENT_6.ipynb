{
  "nbformat": 4,
  "nbformat_minor": 0,
  "metadata": {
    "colab": {
      "provenance": [],
      "authorship_tag": "ABX9TyNZHdX66stiBbInXBSMRVL9",
      "include_colab_link": true
    },
    "kernelspec": {
      "name": "python3",
      "display_name": "Python 3"
    },
    "language_info": {
      "name": "python"
    }
  },
  "cells": [
    {
      "cell_type": "markdown",
      "metadata": {
        "id": "view-in-github",
        "colab_type": "text"
      },
      "source": [
        "<a href=\"https://colab.research.google.com/github/vaish-272000/Python-Assignments2/blob/main/VAISHNAVI_PAWAR_ASSIGNMENT_6.ipynb\" target=\"_parent\"><img src=\"https://colab.research.google.com/assets/colab-badge.svg\" alt=\"Open In Colab\"/></a>"
      ]
    },
    {
      "cell_type": "markdown",
      "source": [
        "To accept an object mass in kilograms and velocity in meters per second and display its momentum. Momentum is calculated as e=mc where m is the mass of the object and c is its velocity."
      ],
      "metadata": {
        "id": "cGA0FPzSjOFK"
      }
    },
    {
      "cell_type": "code",
      "source": [
        "#Take mass and velocity from user\n",
        "mass = float(input(\"Enter mass in kg: \"))\n",
        "velocity = float(input(\"Enter velocity in m/s: \"))\n",
        "\n",
        "#To calculate momentum\n",
        "momentum = mass * (velocity ** 2)\n",
        "print(\"Momemtum of given mass and velocity is: \",momentum,\"kg.m/s\")"
      ],
      "metadata": {
        "colab": {
          "base_uri": "https://localhost:8080/"
        },
        "id": "LfA9T6L3jPZj",
        "outputId": "34c81cfd-260b-4872-910b-45961a591487"
      },
      "execution_count": null,
      "outputs": [
        {
          "output_type": "stream",
          "name": "stdout",
          "text": [
            "Enter mass in kg: 2.5\n",
            "Enter velocity in m/s: 3\n",
            "Momemtum of given mass and velocity is:  22.5 kg.m/s\n"
          ]
        }
      ]
    }
  ]
}